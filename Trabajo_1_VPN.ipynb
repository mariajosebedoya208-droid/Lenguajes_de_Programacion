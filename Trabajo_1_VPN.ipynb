{
  "nbformat": 4,
  "nbformat_minor": 0,
  "metadata": {
    "colab": {
      "provenance": []
    },
    "kernelspec": {
      "name": "python3",
      "display_name": "Python 3"
    },
    "language_info": {
      "name": "python"
    }
  },
  "cells": [
    {
      "cell_type": "markdown",
      "source": [
        "# **Valor Presente Neto**\n",
        "\n",
        "El Valor Presente Neto (VPN), es un método de evaluación financiera que calcula la diferencia entre el valor actual de los flujos de efectivo futuros esperados de un proyecto y la inversión inicial. Este indicador considera el valor del dinero en el tiempo, descontando los flujos futuros a una tasa de interés específica para determinar si la inversión generará ganancias (VPN positivo) o pérdidas (VPN negativo) en términos actuales.\n",
        "Sirve para evaluar la rentabilidad de una inversión al comparar el valor presente de los ingresos futuros con la inversión inicial.\n",
        "\n",
        "\n",
        "## **Fórmula del Valor Presente Neto (VPN)**\n",
        "\n",
        "La fórmula del VPN se expresa de la siguiente manera:\n",
        "\n",
        "\\[\n",
        "$$\n",
        "VPN = \\sum_{t=0}^{n} \\frac{C_t}{(1+r)^t} - C_0\n",
        "$$\n",
        "   \n",
        "\\]  \n",
        "\n",
        "Donde:\n",
        "- \\(C_t\\) es el flujo de caja en el tiempo \\(t\\).\n",
        "- \\(r\\) es la tasa de descuento.\n",
        "- \\(n\\) es el número total de periodos.\n",
        "- \\(C_0\\) es la inversión inicial.\n",
        "\n",
        "### **Interpretación**\n",
        "\n",
        "- Si \\(VPN > 0\\), la inversión es rentable.\n",
        "- Si \\(VPN < 0\\), la inversión no es rentable.\n",
        "- Si \\(VPN = 0\\), la inversión no genera ni pérdidas ni ganancias.\n",
        "\n",
        "#### **Enlace Útil**\n",
        "Para obtener mas información sobre el valor presente neto, puedes consultar el siguiente [enlace](https://blog.hubspot.es/sales/que-es-valor-presente-neto)."
      ],
      "metadata": {
        "id": "UM1bcLtoDs0f"
      }
    },
    {
      "cell_type": "markdown",
      "source": [
        "# **Descripción del Proyecto**\n",
        "\n",
        " Supongamos que la empresa está considerando un proyecto con una inversión inicial de 15,000 y espera recibir flujos de caja de 5,000 en cada uno de los próximos tres años. La tasa de descuento es del 5%.\n"
      ],
      "metadata": {
        "id": "q0wCqZ6xBSLM"
      }
    },
    {
      "cell_type": "markdown",
      "source": [
        "\\[\n",
        "$$\n",
        "VPN = \\sum_{t=0}^{n} \\frac{C_t}{(1+r)^t} - C_0\n",
        "$$\n",
        "   \n",
        "\\]  "
      ],
      "metadata": {
        "id": "8oJBaCHMFmC7"
      }
    },
    {
      "cell_type": "code",
      "source": [
        "inversion_inicial = 15000\n",
        "flujo_ano_1 = 6000\n",
        "flujo_ano_2 = 6000\n",
        "flujo_ano_3 = 6000\n",
        "tasa_descuento = 0.05"
      ],
      "metadata": {
        "id": "JIEdfRxzGB61"
      },
      "execution_count": 12,
      "outputs": []
    },
    {
      "cell_type": "code",
      "source": [
        "vpn = (flujo_ano_1 / (1 + tasa_descuento)**1) + \\\n",
        "      (flujo_ano_2 / (1 + tasa_descuento)**2) + \\\n",
        "      (flujo_ano_3 / (1 + tasa_descuento)**3) - inversion_inicial\n",
        "print(\"El Valor Presente Neto (VPN) es:\", vpn)"
      ],
      "metadata": {
        "id": "CesX-WTDGceN",
        "colab": {
          "base_uri": "https://localhost:8080/"
        },
        "outputId": "8d548d57-4ef5-4e28-fcb5-6746df68629e"
      },
      "execution_count": 13,
      "outputs": [
        {
          "output_type": "stream",
          "name": "stdout",
          "text": [
            "El Valor Presente Neto (VPN) es: 1339.4881762228688\n"
          ]
        }
      ]
    },
    {
      "cell_type": "code",
      "source": [
        "if vpn > 0:\n",
        "  print(\"El proyecto es viable, ya que el VPN es positivo.\")\n",
        "else:\n",
        "  print(\"El proyecto no es viable, ya que el VPN es negativo.\")"
      ],
      "metadata": {
        "colab": {
          "base_uri": "https://localhost:8080/"
        },
        "id": "TRV75PDfHah6",
        "outputId": "04fa86e9-cccf-470c-dbdc-a4d17b81c159"
      },
      "execution_count": 9,
      "outputs": [
        {
          "output_type": "stream",
          "name": "stdout",
          "text": [
            "El proyecto es viable, ya que el VPN es positivo.\n"
          ]
        }
      ]
    }
  ]
}